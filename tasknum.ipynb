{
  "nbformat": 4,
  "nbformat_minor": 0,
  "metadata": {
    "colab": {
      "name": "tasknum",
      "version": "0.3.2",
      "provenance": [],
      "collapsed_sections": [],
      "include_colab_link": true
    },
    "kernelspec": {
      "name": "python3",
      "display_name": "Python 3"
    }
  },
  "cells": [
    {
      "cell_type": "markdown",
      "metadata": {
        "id": "view-in-github",
        "colab_type": "text"
      },
      "source": [
        "<a href=\"https://colab.research.google.com/github/ofrajat/AD-Python/blob/master/tasknum.ipynb\" target=\"_parent\"><img src=\"https://colab.research.google.com/assets/colab-badge.svg\" alt=\"Open In Colab\"/></a>"
      ]
    },
    {
      "cell_type": "code",
      "metadata": {
        "id": "rn6WeI6AdATd",
        "colab_type": "code",
        "colab": {}
      },
      "source": [
        "import numpy as np"
      ],
      "execution_count": 0,
      "outputs": []
    },
    {
      "cell_type": "code",
      "metadata": {
        "id": "rWBSB7Kxd0Tb",
        "colab_type": "code",
        "colab": {}
      },
      "source": [
        "def fact(x,y):\n",
        "   for i in range(1, x + 1):\n",
        "       if x % i == 0:\n",
        "           y.append(i)"
      ],
      "execution_count": 0,
      "outputs": []
    },
    {
      "cell_type": "code",
      "metadata": {
        "id": "dd7XXUCVfGvO",
        "colab_type": "code",
        "colab": {
          "base_uri": "https://localhost:8080/",
          "height": 34
        },
        "outputId": "8e2288c2-3329-4366-8f1c-ac5af49ed6df"
      },
      "source": [
        "x=32\n",
        "a=[]\n",
        "y=16\n",
        "b=[]\n",
        "w=[]\n",
        "q=[]\n",
        "fact(x,a)\n",
        "fact(y,b)\n",
        "len(b)"
      ],
      "execution_count": 15,
      "outputs": [
        {
          "output_type": "execute_result",
          "data": {
            "text/plain": [
              "5"
            ]
          },
          "metadata": {
            "tags": []
          },
          "execution_count": 15
        }
      ]
    },
    {
      "cell_type": "code",
      "metadata": {
        "id": "xZcpsnflfc1Y",
        "colab_type": "code",
        "colab": {}
      },
      "source": [
        "for j in range(0,len(a)):\n",
        "  for i in range(0,len(b)):\n",
        "    w=(a[j],b[i])\n",
        "    q.append(w)\n",
        "  "
      ],
      "execution_count": 0,
      "outputs": []
    },
    {
      "cell_type": "code",
      "metadata": {
        "id": "QOXLFtTInGCi",
        "colab_type": "code",
        "colab": {
          "base_uri": "https://localhost:8080/",
          "height": 54
        },
        "outputId": "92dfd188-0bb2-4701-8195-2317894ec33f"
      },
      "source": [
        "fl = [] \n",
        "for n in q: \n",
        "   if n not in fl: \n",
        "         fl.append(n) \n",
        "print(fl)"
      ],
      "execution_count": 46,
      "outputs": [
        {
          "output_type": "stream",
          "text": [
            "[(1, 1), (2, 1), (4, 1), (8, 1), (16, 1), (32, 1), (1, 2), (1, 4), (1, 8), (1, 16), (2, 2), (2, 4), (2, 8), (2, 16), (4, 2), (4, 4), (4, 8), (4, 16), (8, 2), (8, 4), (8, 8), (8, 16), (16, 2), (16, 4), (16, 8), (16, 16), (32, 2), (32, 4), (32, 8), (32, 16), [1, 1], [1, 2], [1, 4], [1, 8], [1, 16], [2, 1], [2, 2], [2, 4], [2, 8], [2, 16], [4, 1], [4, 2], [4, 4], [4, 8], [4, 16], [8, 1], [8, 2], [8, 4], [8, 8], [8, 16], [16, 1], [16, 2], [16, 4], [16, 8], [16, 16], [32, 1], [32, 2], [32, 4], [32, 8], [32, 16]]\n"
          ],
          "name": "stdout"
        }
      ]
    },
    {
      "cell_type": "code",
      "metadata": {
        "id": "XDdYDw4rTbV1",
        "colab_type": "code",
        "colab": {}
      },
      "source": [
        "h=int(round(len(fl)/2))\n",
        "for i in range(0,h):  \n",
        "  np.ones((fl[i][0],fl[i][1]))"
      ],
      "execution_count": 0,
      "outputs": []
    },
    {
      "cell_type": "code",
      "metadata": {
        "id": "3yvaUNPYVqiy",
        "colab_type": "code",
        "colab": {}
      },
      "source": [
        ""
      ],
      "execution_count": 0,
      "outputs": []
    }
  ]
}