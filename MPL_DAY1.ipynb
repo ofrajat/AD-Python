{
  "nbformat": 4,
  "nbformat_minor": 0,
  "metadata": {
    "colab": {
      "name": "MPL.DAY1",
      "version": "0.3.2",
      "provenance": [],
      "collapsed_sections": [],
      "include_colab_link": true
    },
    "kernelspec": {
      "name": "python3",
      "display_name": "Python 3"
    }
  },
  "cells": [
    {
      "cell_type": "markdown",
      "metadata": {
        "id": "view-in-github",
        "colab_type": "text"
      },
      "source": [
        "<a href=\"https://colab.research.google.com/github/ofrajat/AD-Python/blob/master/MPL_DAY1.ipynb\" target=\"_parent\"><img src=\"https://colab.research.google.com/assets/colab-badge.svg\" alt=\"Open In Colab\"/></a>"
      ]
    },
    {
      "cell_type": "code",
      "metadata": {
        "id": "g0MREVxuTnrR",
        "colab_type": "code",
        "colab": {}
      },
      "source": [
        "import matplotlib.pyplot as mpl"
      ],
      "execution_count": 0,
      "outputs": []
    },
    {
      "cell_type": "code",
      "metadata": {
        "id": "0wYRUljVT2BC",
        "colab_type": "code",
        "outputId": "abf433d5-a5ec-4afd-f345-8284bbd2a542",
        "colab": {
          "base_uri": "https://localhost:8080/",
          "height": 283
        }
      },
      "source": [
        "x=[2,3]\n",
        "y=[9,5]\n",
        "mpl.xlabel(\"who\")\n",
        "mpl.ylabel(\"am i\")\n",
        "mpl.plot(x,y,label=\"water\")\n",
        "mpl.legend()     #to show line label\n",
        "mpl.bar(x,y)\n",
        "mpl.xlim(0,12)\n",
        "mpl.ylim(0,10)\n",
        "mpl.grid(color='green')\n",
        "mpl.show()"
      ],
      "execution_count": 0,
      "outputs": [
        {
          "output_type": "display_data",
          "data": {
            "image/png": "[encoded data removed]",
            "text/plain": [
              "<Figure size 432x288 with 1 Axes>"
            ]
          },
          "metadata": {
            "tags": []
          }
        }
      ]
    },
    {
      "cell_type": "code",
      "metadata": {
        "id": "VfsmwseDVCN6",
        "colab_type": "code",
        "colab": {
          "base_uri": "https://localhost:8080/",
          "height": 269
        },
        "outputId": "7f889c3f-55b9-4d2d-d4ed-17067a4bfbde"
      },
      "source": [
        "players=[\"virat\",\"pandya\",\"dhoni\"]\n",
        "runs =[120,150,70]\n",
        "mpl.bar(players,runs)\n",
        "mpl.grid(color='green')"
      ],
      "execution_count": 4,
      "outputs": [
        {
          "output_type": "display_data",
          "data": {
            "image/png": "[encoded data removed]",
            "text/plain": [
              "<Figure size 432x288 with 1 Axes>"
            ]
          },
          "metadata": {
            "tags": []
          }
        }
      ]
    },
    {
      "cell_type": "code",
      "metadata": {
        "id": "8PwzioCZry4c",
        "colab_type": "code",
        "colab": {}
      },
      "source": [
        ""
      ],
      "execution_count": 0,
      "outputs": []
    }
  ]
}